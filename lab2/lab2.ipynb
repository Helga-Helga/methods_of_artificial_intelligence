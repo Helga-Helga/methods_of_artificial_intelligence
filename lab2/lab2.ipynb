{
 "cells": [
  {
   "cell_type": "markdown",
   "metadata": {},
   "source": [
    "# Laboratory work №2\n",
    "## Predict sales of video games"
   ]
  },
  {
   "cell_type": "markdown",
   "metadata": {},
   "source": [
    "Will work with dataset provided on https://www.kaggle.com/rush4ratio/video-game-sales-with-ratings\n",
    "with fields: Name, Platform, Year_of_Release, Genre, Rublisher, NA_sales, EU_sales, JP_sales, Other_Sales,\n",
    "Global_Sales, Critic_Score, Critic_Count, User_Score, User_Count and Rating.\n",
    "The Global_Sales we will predict, so, we will solve regression problem."
   ]
  },
  {
   "cell_type": "code",
   "execution_count": 1,
   "metadata": {
    "collapsed": true
   },
   "outputs": [],
   "source": [
    "from pandas import read_csv"
   ]
  },
  {
   "cell_type": "markdown",
   "metadata": {},
   "source": [
    "### Introduction to data"
   ]
  },
  {
   "cell_type": "markdown",
   "metadata": {},
   "source": [
    "Loading the dataset with the help of function `pandas.read_csv` in a `df` variable.\n",
    "Display the first 5 lines to make sure the data is correctly read."
   ]
  },
  {
   "cell_type": "code",
   "execution_count": 2,
   "metadata": {},
   "outputs": [
    {
     "name": "stdout",
     "output_type": "stream",
     "text": [
      "(17416, 15)\n"
     ]
    },
    {
     "data": {
      "text/html": [
       "<div>\n",
       "<style>\n",
       "    .dataframe thead tr:only-child th {\n",
       "        text-align: right;\n",
       "    }\n",
       "\n",
       "    .dataframe thead th {\n",
       "        text-align: left;\n",
       "    }\n",
       "\n",
       "    .dataframe tbody tr th {\n",
       "        vertical-align: top;\n",
       "    }\n",
       "</style>\n",
       "<table border=\"1\" class=\"dataframe\">\n",
       "  <thead>\n",
       "    <tr style=\"text-align: right;\">\n",
       "      <th></th>\n",
       "      <th>Name</th>\n",
       "      <th>Platform</th>\n",
       "      <th>Year_of_Release</th>\n",
       "      <th>Genre</th>\n",
       "      <th>Publisher</th>\n",
       "      <th>NA_Sales</th>\n",
       "      <th>EU_Sales</th>\n",
       "      <th>JP_Sales</th>\n",
       "      <th>Other_Sales</th>\n",
       "      <th>Global_Sales</th>\n",
       "      <th>Critic_Score</th>\n",
       "      <th>Critic_Count</th>\n",
       "      <th>User_Score</th>\n",
       "      <th>User_Count</th>\n",
       "      <th>Rating</th>\n",
       "    </tr>\n",
       "  </thead>\n",
       "  <tbody>\n",
       "    <tr>\n",
       "      <th>0</th>\n",
       "      <td>Wii Sports</td>\n",
       "      <td>Wii</td>\n",
       "      <td>2006.0</td>\n",
       "      <td>Sports</td>\n",
       "      <td>Nintendo</td>\n",
       "      <td>41.36</td>\n",
       "      <td>28.96</td>\n",
       "      <td>3.77</td>\n",
       "      <td>8.45</td>\n",
       "      <td>82.54</td>\n",
       "      <td>76.0</td>\n",
       "      <td>51.0</td>\n",
       "      <td>8.0</td>\n",
       "      <td>324.0</td>\n",
       "      <td>E</td>\n",
       "    </tr>\n",
       "    <tr>\n",
       "      <th>1</th>\n",
       "      <td>Super Mario Bros.</td>\n",
       "      <td>NES</td>\n",
       "      <td>1985.0</td>\n",
       "      <td>Platform</td>\n",
       "      <td>Nintendo</td>\n",
       "      <td>29.08</td>\n",
       "      <td>3.58</td>\n",
       "      <td>6.81</td>\n",
       "      <td>0.77</td>\n",
       "      <td>40.24</td>\n",
       "      <td>NaN</td>\n",
       "      <td>NaN</td>\n",
       "      <td>NaN</td>\n",
       "      <td>NaN</td>\n",
       "      <td>NaN</td>\n",
       "    </tr>\n",
       "    <tr>\n",
       "      <th>2</th>\n",
       "      <td>Mario Kart Wii</td>\n",
       "      <td>Wii</td>\n",
       "      <td>2008.0</td>\n",
       "      <td>Racing</td>\n",
       "      <td>Nintendo</td>\n",
       "      <td>15.68</td>\n",
       "      <td>12.80</td>\n",
       "      <td>3.79</td>\n",
       "      <td>3.29</td>\n",
       "      <td>35.57</td>\n",
       "      <td>82.0</td>\n",
       "      <td>73.0</td>\n",
       "      <td>8.3</td>\n",
       "      <td>712.0</td>\n",
       "      <td>E</td>\n",
       "    </tr>\n",
       "    <tr>\n",
       "      <th>3</th>\n",
       "      <td>Wii Sports Resort</td>\n",
       "      <td>Wii</td>\n",
       "      <td>2009.0</td>\n",
       "      <td>Sports</td>\n",
       "      <td>Nintendo</td>\n",
       "      <td>15.61</td>\n",
       "      <td>10.95</td>\n",
       "      <td>3.28</td>\n",
       "      <td>2.95</td>\n",
       "      <td>32.78</td>\n",
       "      <td>80.0</td>\n",
       "      <td>73.0</td>\n",
       "      <td>8.0</td>\n",
       "      <td>193.0</td>\n",
       "      <td>E</td>\n",
       "    </tr>\n",
       "    <tr>\n",
       "      <th>4</th>\n",
       "      <td>Pokemon Red/Pokemon Blue</td>\n",
       "      <td>G</td>\n",
       "      <td>1996.0</td>\n",
       "      <td>Role-Playing</td>\n",
       "      <td>Nintendo</td>\n",
       "      <td>11.27</td>\n",
       "      <td>8.89</td>\n",
       "      <td>10.22</td>\n",
       "      <td>1.00</td>\n",
       "      <td>31.37</td>\n",
       "      <td>NaN</td>\n",
       "      <td>NaN</td>\n",
       "      <td>NaN</td>\n",
       "      <td>NaN</td>\n",
       "      <td>NaN</td>\n",
       "    </tr>\n",
       "  </tbody>\n",
       "</table>\n",
       "</div>"
      ],
      "text/plain": [
       "                       Name Platform  Year_of_Release         Genre Publisher  \\\n",
       "0                Wii Sports      Wii           2006.0        Sports  Nintendo   \n",
       "1         Super Mario Bros.      NES           1985.0      Platform  Nintendo   \n",
       "2            Mario Kart Wii      Wii           2008.0        Racing  Nintendo   \n",
       "3         Wii Sports Resort      Wii           2009.0        Sports  Nintendo   \n",
       "4  Pokemon Red/Pokemon Blue        G           1996.0  Role-Playing  Nintendo   \n",
       "\n",
       "   NA_Sales  EU_Sales  JP_Sales  Other_Sales  Global_Sales  Critic_Score  \\\n",
       "0     41.36     28.96      3.77         8.45         82.54          76.0   \n",
       "1     29.08      3.58      6.81         0.77         40.24           NaN   \n",
       "2     15.68     12.80      3.79         3.29         35.57          82.0   \n",
       "3     15.61     10.95      3.28         2.95         32.78          80.0   \n",
       "4     11.27      8.89     10.22         1.00         31.37           NaN   \n",
       "\n",
       "   Critic_Count  User_Score  User_Count Rating  \n",
       "0          51.0         8.0       324.0      E  \n",
       "1           NaN         NaN         NaN    NaN  \n",
       "2          73.0         8.3       712.0      E  \n",
       "3          73.0         8.0       193.0      E  \n",
       "4           NaN         NaN         NaN    NaN  "
      ]
     },
     "execution_count": 2,
     "metadata": {},
     "output_type": "execute_result"
    }
   ],
   "source": [
    "df = read_csv('Video_Game_Sales_as_of_Jan_2017.csv')\n",
    "print df.shape\n",
    "df.head()"
   ]
  },
  {
   "cell_type": "markdown",
   "metadata": {},
   "source": [
    "There are missing values.\n",
    "The obvious solution is to exclude all data that have at least one missing value.\n",
    "Let's do it."
   ]
  },
  {
   "cell_type": "code",
   "execution_count": 3,
   "metadata": {
    "collapsed": true
   },
   "outputs": [],
   "source": [
    "df = df.dropna()"
   ]
  },
  {
   "cell_type": "markdown",
   "metadata": {},
   "source": [
    "Select the target variable `Global_Sales` from the dataset and denote it by `y`.\n",
    "Now `X` denotes training sample, `y` - answers on it."
   ]
  },
  {
   "cell_type": "code",
   "execution_count": 4,
   "metadata": {
    "collapsed": true
   },
   "outputs": [],
   "source": [
    "X = df.drop('Global_Sales', 1)\n",
    "y = df['Global_Sales']"
   ]
  },
  {
   "cell_type": "markdown",
   "metadata": {},
   "source": [
    "### Processing of missing values"
   ]
  },
  {
   "cell_type": "markdown",
   "metadata": {},
   "source": [
    "We can see that there are both numeric and categorical characteristics in the dataset. Get lists of their names"
   ]
  },
  {
   "cell_type": "code",
   "execution_count": 5,
   "metadata": {
    "collapsed": true
   },
   "outputs": [],
   "source": [
    "numeric_cols = ['Year_of_Release', 'NA_Sales', 'EU_Sales', 'JP_Sales', 'Other_Sales', 'Critic_Score',\n",
    "                'Critic_Count', 'User_Score', 'User_Count', 'Global_Sales']\n",
    "categorical_cols = list(set(X.columns.values.tolist()) - set(numeric_cols))"
   ]
  },
  {
   "cell_type": "code",
   "execution_count": 6,
   "metadata": {
    "collapsed": true
   },
   "outputs": [],
   "source": [
    "X_real = df[numeric_cols]\n",
    "X_cat = (df[categorical_cols].fillna('NA')).astype(str)"
   ]
  },
  {
   "cell_type": "markdown",
   "metadata": {},
   "source": [
    "So, we have real features, and with them we can work.\n",
    "Let's look at the charts, how the target attribute depends on the rest."
   ]
  },
  {
   "cell_type": "code",
   "execution_count": 7,
   "metadata": {
    "collapsed": true
   },
   "outputs": [],
   "source": [
    "from matplotlib.pyplot import subplots\n",
    "%matplotlib inline"
   ]
  },
  {
   "cell_type": "code",
   "execution_count": 8,
   "metadata": {},
   "outputs": [
    {
     "data": {
      "image/png": "[encoded data removed]",
      "text/plain": [
       "<matplotlib.figure.Figure at 0x7f8bf0b5ea50>"
      ]
     },
     "metadata": {},
     "output_type": "display_data"
    }
   ],
   "source": [
    "fig, axes = subplots(nrows=2, ncols=5, figsize=(20, 8))\n",
    "for idx, feature in enumerate(X_real[:-1]):\n",
    "    X_real.plot(feature, \"Global_Sales\", subplots=True, kind=\"scatter\", ax=axes[idx / 5, idx % 5])"
   ]
  },
  {
   "cell_type": "markdown",
   "metadata": {},
   "source": [
    "Let's more strictly estimate the level of linear dependence between the characteristics and the target variable.\n",
    "A good measure of the linear relationship between the two vectors is the Pearson correlation.\n",
    "In pandas, it can be calculated using two methods of a dataframe: `corr` and `corrwith`.\n",
    "The `df.corr` method calculates the correlation matrix of all characteristics from the dataframe.\n",
    "The `df.corrwith` method needs to submit one more dataframe as an argument,\n",
    "and then it will calculate pairwise correlations between the characteristics of df and this dataframe."
   ]
  },
  {
   "cell_type": "code",
   "execution_count": 9,
   "metadata": {},
   "outputs": [
    {
     "data": {
      "text/plain": [
       "Year_of_Release    0.008973\n",
       "NA_Sales           0.954936\n",
       "EU_Sales           0.938461\n",
       "JP_Sales           0.611947\n",
       "Other_Sales        0.805426\n",
       "Critic_Score       0.237317\n",
       "Critic_Count       0.293247\n",
       "User_Score         0.087918\n",
       "User_Count         0.264916\n",
       "dtype: float64"
      ]
     },
     "execution_count": 9,
     "metadata": {},
     "output_type": "execute_result"
    }
   ],
   "source": [
    "X_real.drop('Global_Sales', 1).corrwith(df['Global_Sales'])"
   ]
  },
  {
   "cell_type": "markdown",
   "metadata": {},
   "source": [
    "In the sample, there are features that correlate with the target,\n",
    "and therefore the problem can be solved by linear methods."
   ]
  },
  {
   "cell_type": "markdown",
   "metadata": {},
   "source": [
    "The graphs show that some of the features are similar to each other.\n",
    "Therefore, let us also calculate the correlation between the real characteristics."
   ]
  },
  {
   "cell_type": "code",
   "execution_count": 10,
   "metadata": {},
   "outputs": [
    {
     "data": {
      "text/html": [
       "<div>\n",
       "<style>\n",
       "    .dataframe thead tr:only-child th {\n",
       "        text-align: right;\n",
       "    }\n",
       "\n",
       "    .dataframe thead th {\n",
       "        text-align: left;\n",
       "    }\n",
       "\n",
       "    .dataframe tbody tr th {\n",
       "        vertical-align: top;\n",
       "    }\n",
       "</style>\n",
       "<table border=\"1\" class=\"dataframe\">\n",
       "  <thead>\n",
       "    <tr style=\"text-align: right;\">\n",
       "      <th></th>\n",
       "      <th>Year_of_Release</th>\n",
       "      <th>NA_Sales</th>\n",
       "      <th>EU_Sales</th>\n",
       "      <th>JP_Sales</th>\n",
       "      <th>Other_Sales</th>\n",
       "      <th>Critic_Score</th>\n",
       "      <th>Critic_Count</th>\n",
       "      <th>User_Score</th>\n",
       "      <th>User_Count</th>\n",
       "      <th>Global_Sales</th>\n",
       "    </tr>\n",
       "  </thead>\n",
       "  <tbody>\n",
       "    <tr>\n",
       "      <th>Year_of_Release</th>\n",
       "      <td>1.000000</td>\n",
       "      <td>-0.014685</td>\n",
       "      <td>0.043452</td>\n",
       "      <td>-0.034488</td>\n",
       "      <td>0.044025</td>\n",
       "      <td>-0.009776</td>\n",
       "      <td>0.196388</td>\n",
       "      <td>-0.253238</td>\n",
       "      <td>0.198600</td>\n",
       "      <td>0.008973</td>\n",
       "    </tr>\n",
       "    <tr>\n",
       "      <th>NA_Sales</th>\n",
       "      <td>-0.014685</td>\n",
       "      <td>1.000000</td>\n",
       "      <td>0.838223</td>\n",
       "      <td>0.465930</td>\n",
       "      <td>0.727575</td>\n",
       "      <td>0.234142</td>\n",
       "      <td>0.286298</td>\n",
       "      <td>0.085729</td>\n",
       "      <td>0.245816</td>\n",
       "      <td>0.954936</td>\n",
       "    </tr>\n",
       "    <tr>\n",
       "      <th>EU_Sales</th>\n",
       "      <td>0.043452</td>\n",
       "      <td>0.838223</td>\n",
       "      <td>1.000000</td>\n",
       "      <td>0.518536</td>\n",
       "      <td>0.718245</td>\n",
       "      <td>0.211855</td>\n",
       "      <td>0.267728</td>\n",
       "      <td>0.055010</td>\n",
       "      <td>0.284431</td>\n",
       "      <td>0.938461</td>\n",
       "    </tr>\n",
       "    <tr>\n",
       "      <th>JP_Sales</th>\n",
       "      <td>-0.034488</td>\n",
       "      <td>0.465930</td>\n",
       "      <td>0.518536</td>\n",
       "      <td>1.000000</td>\n",
       "      <td>0.393503</td>\n",
       "      <td>0.145799</td>\n",
       "      <td>0.171109</td>\n",
       "      <td>0.127092</td>\n",
       "      <td>0.073678</td>\n",
       "      <td>0.611947</td>\n",
       "    </tr>\n",
       "    <tr>\n",
       "      <th>Other_Sales</th>\n",
       "      <td>0.044025</td>\n",
       "      <td>0.727575</td>\n",
       "      <td>0.718245</td>\n",
       "      <td>0.393503</td>\n",
       "      <td>1.000000</td>\n",
       "      <td>0.191452</td>\n",
       "      <td>0.241974</td>\n",
       "      <td>0.056737</td>\n",
       "      <td>0.242044</td>\n",
       "      <td>0.805426</td>\n",
       "    </tr>\n",
       "    <tr>\n",
       "      <th>Critic_Score</th>\n",
       "      <td>-0.009776</td>\n",
       "      <td>0.234142</td>\n",
       "      <td>0.211855</td>\n",
       "      <td>0.145799</td>\n",
       "      <td>0.191452</td>\n",
       "      <td>1.000000</td>\n",
       "      <td>0.391951</td>\n",
       "      <td>0.583724</td>\n",
       "      <td>0.264328</td>\n",
       "      <td>0.237317</td>\n",
       "    </tr>\n",
       "    <tr>\n",
       "      <th>Critic_Count</th>\n",
       "      <td>0.196388</td>\n",
       "      <td>0.286298</td>\n",
       "      <td>0.267728</td>\n",
       "      <td>0.171109</td>\n",
       "      <td>0.241974</td>\n",
       "      <td>0.391951</td>\n",
       "      <td>1.000000</td>\n",
       "      <td>0.193658</td>\n",
       "      <td>0.361137</td>\n",
       "      <td>0.293247</td>\n",
       "    </tr>\n",
       "    <tr>\n",
       "      <th>User_Score</th>\n",
       "      <td>-0.253238</td>\n",
       "      <td>0.085729</td>\n",
       "      <td>0.055010</td>\n",
       "      <td>0.127092</td>\n",
       "      <td>0.056737</td>\n",
       "      <td>0.583724</td>\n",
       "      <td>0.193658</td>\n",
       "      <td>1.000000</td>\n",
       "      <td>0.018876</td>\n",
       "      <td>0.087918</td>\n",
       "    </tr>\n",
       "    <tr>\n",
       "      <th>User_Count</th>\n",
       "      <td>0.198600</td>\n",
       "      <td>0.245816</td>\n",
       "      <td>0.284431</td>\n",
       "      <td>0.073678</td>\n",
       "      <td>0.242044</td>\n",
       "      <td>0.264328</td>\n",
       "      <td>0.361137</td>\n",
       "      <td>0.018876</td>\n",
       "      <td>1.000000</td>\n",
       "      <td>0.264916</td>\n",
       "    </tr>\n",
       "    <tr>\n",
       "      <th>Global_Sales</th>\n",
       "      <td>0.008973</td>\n",
       "      <td>0.954936</td>\n",
       "      <td>0.938461</td>\n",
       "      <td>0.611947</td>\n",
       "      <td>0.805426</td>\n",
       "      <td>0.237317</td>\n",
       "      <td>0.293247</td>\n",
       "      <td>0.087918</td>\n",
       "      <td>0.264916</td>\n",
       "      <td>1.000000</td>\n",
       "    </tr>\n",
       "  </tbody>\n",
       "</table>\n",
       "</div>"
      ],
      "text/plain": [
       "                 Year_of_Release  NA_Sales  EU_Sales  JP_Sales  Other_Sales  \\\n",
       "Year_of_Release         1.000000 -0.014685  0.043452 -0.034488     0.044025   \n",
       "NA_Sales               -0.014685  1.000000  0.838223  0.465930     0.727575   \n",
       "EU_Sales                0.043452  0.838223  1.000000  0.518536     0.718245   \n",
       "JP_Sales               -0.034488  0.465930  0.518536  1.000000     0.393503   \n",
       "Other_Sales             0.044025  0.727575  0.718245  0.393503     1.000000   \n",
       "Critic_Score           -0.009776  0.234142  0.211855  0.145799     0.191452   \n",
       "Critic_Count            0.196388  0.286298  0.267728  0.171109     0.241974   \n",
       "User_Score             -0.253238  0.085729  0.055010  0.127092     0.056737   \n",
       "User_Count              0.198600  0.245816  0.284431  0.073678     0.242044   \n",
       "Global_Sales            0.008973  0.954936  0.938461  0.611947     0.805426   \n",
       "\n",
       "                 Critic_Score  Critic_Count  User_Score  User_Count  \\\n",
       "Year_of_Release     -0.009776      0.196388   -0.253238    0.198600   \n",
       "NA_Sales             0.234142      0.286298    0.085729    0.245816   \n",
       "EU_Sales             0.211855      0.267728    0.055010    0.284431   \n",
       "JP_Sales             0.145799      0.171109    0.127092    0.073678   \n",
       "Other_Sales          0.191452      0.241974    0.056737    0.242044   \n",
       "Critic_Score         1.000000      0.391951    0.583724    0.264328   \n",
       "Critic_Count         0.391951      1.000000    0.193658    0.361137   \n",
       "User_Score           0.583724      0.193658    1.000000    0.018876   \n",
       "User_Count           0.264328      0.361137    0.018876    1.000000   \n",
       "Global_Sales         0.237317      0.293247    0.087918    0.264916   \n",
       "\n",
       "                 Global_Sales  \n",
       "Year_of_Release      0.008973  \n",
       "NA_Sales             0.954936  \n",
       "EU_Sales             0.938461  \n",
       "JP_Sales             0.611947  \n",
       "Other_Sales          0.805426  \n",
       "Critic_Score         0.237317  \n",
       "Critic_Count         0.293247  \n",
       "User_Score           0.087918  \n",
       "User_Count           0.264916  \n",
       "Global_Sales         1.000000  "
      ]
     },
     "execution_count": 10,
     "metadata": {},
     "output_type": "execute_result"
    }
   ],
   "source": [
    "corr = X_real.corr()\n",
    "corr"
   ]
  },
  {
   "cell_type": "markdown",
   "metadata": {},
   "source": [
    "On the diagonals, as it should be, there are only units.\n",
    "However, there are strongly correlated columns in the matrix: NA_Sales, EU_Sales, JP_Sales, Other Sales and Global_Sales (the last one is the sum of others).\n",
    "Further we will see that this fact negatively affects the learning of the linear model."
   ]
  },
  {
   "cell_type": "markdown",
   "metadata": {},
   "source": [
    "So, in our data, there are very similar features.\n",
    "Of course, we could remove duplicates at once,\n",
    "but let's see how the model would have been trained if we had not noticed this problem."
   ]
  },
  {
   "cell_type": "markdown",
   "metadata": {},
   "source": [
    "Training Lasso regressor with default parameters."
   ]
  },
  {
   "cell_type": "code",
   "execution_count": 11,
   "metadata": {
    "collapsed": true
   },
   "outputs": [],
   "source": [
    "from sklearn.linear_model import Lasso"
   ]
  },
  {
   "cell_type": "code",
   "execution_count": 12,
   "metadata": {},
   "outputs": [
    {
     "name": "stdout",
     "output_type": "stream",
     "text": [
      "Year_of_Release -0.0\n",
      "NA_Sales 0.0\n",
      "EU_Sales 0.0\n",
      "JP_Sales 0.0\n",
      "Other_Sales 0.0\n",
      "Critic_Score 0.000266856876338\n",
      "Critic_Count 0.00360106138115\n",
      "User_Score 0.0\n",
      "User_Count 0.000210177588237\n",
      "Global_Sales 0.705533516582\n"
     ]
    }
   ],
   "source": [
    "# Training a linear model with L1-regularization and output weights\n",
    "# (weights are stored in the coef_ variable of the regressor class).\n",
    "# We can output pairs (feature name, weight) using the zip function built into the python language\n",
    "# Feature names are stores in df.columns variable\n",
    "regressor = Lasso()\n",
    "regressor.fit(X_real, y)\n",
    "for pair in zip(X_real.columns, regressor.coef_):\n",
    "    print pair[0], pair[1]"
   ]
  },
  {
   "cell_type": "markdown",
   "metadata": {},
   "source": [
    "L1-regularization nullifies weights at some features.\n",
    "So we may not consider features with zero weights.\n",
    "Taking into account colleration matrix we will left only `Year_of_Release` from real features."
   ]
  },
  {
   "cell_type": "code",
   "execution_count": 13,
   "metadata": {
    "collapsed": true
   },
   "outputs": [],
   "source": [
    "X_real = X_real[['Year_of_Release']]"
   ]
  },
  {
   "cell_type": "markdown",
   "metadata": {},
   "source": [
    "### Transformation of categorical features"
   ]
  },
  {
   "cell_type": "markdown",
   "metadata": {},
   "source": [
    "In the previous cell we divided our data set into two parts: one contains only numerical characteristics,\n",
    "the other only categorical ones.\n",
    "It will be necessary for us for further separate processing of this data.\n",
    "\n",
    "To use the regression model, we need to convert the categorical characteristics into numerical once.\n",
    "Let's consider the basic way of transformation of the categorical attributes in numerical: one-hot encoding.\n",
    "Its idea is that we transform the categorical attribute by means of a binary code:\n",
    "we assign a set of zeros and ones to each category."
   ]
  },
  {
   "cell_type": "code",
   "execution_count": 14,
   "metadata": {
    "collapsed": true
   },
   "outputs": [],
   "source": [
    "from sklearn.feature_extraction import DictVectorizer as DV\n",
    "\n",
    "encoder = DV(sparse = False)\n",
    "X_cat = encoder.fit_transform(X_cat.T.to_dict().values())"
   ]
  },
  {
   "cell_type": "code",
   "execution_count": 15,
   "metadata": {},
   "outputs": [
    {
     "data": {
      "text/plain": [
       "Lasso(alpha=1.0, copy_X=True, fit_intercept=True, max_iter=1000,\n",
       "   normalize=False, positive=False, precompute=False, random_state=None,\n",
       "   selection='cyclic', tol=0.0001, warm_start=False)"
      ]
     },
     "execution_count": 15,
     "metadata": {},
     "output_type": "execute_result"
    }
   ],
   "source": [
    "regressor.fit(X_cat, y)"
   ]
  },
  {
   "cell_type": "code",
   "execution_count": 16,
   "metadata": {},
   "outputs": [
    {
     "name": "stdout",
     "output_type": "stream",
     "text": [
      "All weights are equal to 0\n"
     ]
    }
   ],
   "source": [
    "if regressor.coef_.all() == 0:\n",
    "    print 'All weights are equal to 0'"
   ]
  },
  {
   "cell_type": "markdown",
   "metadata": {},
   "source": [
    "Let's consider only `Genge` feature from categorical columns."
   ]
  },
  {
   "cell_type": "code",
   "execution_count": 17,
   "metadata": {
    "collapsed": true
   },
   "outputs": [],
   "source": [
    "X_cat = X[['Genre']]"
   ]
  },
  {
   "cell_type": "markdown",
   "metadata": {},
   "source": [
    "Getting names of genres that will be used as names of columns in Data Frame:"
   ]
  },
  {
   "cell_type": "code",
   "execution_count": 18,
   "metadata": {},
   "outputs": [],
   "source": [
    "genres = []\n",
    "for element in X_cat['Genre']:\n",
    "    if element not in genres:\n",
    "        genres.append(element)"
   ]
  },
  {
   "cell_type": "markdown",
   "metadata": {},
   "source": [
    "Converting categorical column into numerical one:"
   ]
  },
  {
   "cell_type": "code",
   "execution_count": 19,
   "metadata": {
    "collapsed": true
   },
   "outputs": [],
   "source": [
    "X_cat = encoder.fit_transform(X_cat.T.to_dict().values())"
   ]
  },
  {
   "cell_type": "markdown",
   "metadata": {},
   "source": [
    "Creating Data Frame from transformed categorical data:"
   ]
  },
  {
   "cell_type": "code",
   "execution_count": 20,
   "metadata": {
    "collapsed": true
   },
   "outputs": [],
   "source": [
    "from pandas import DataFrame, concat"
   ]
  },
  {
   "cell_type": "code",
   "execution_count": 21,
   "metadata": {
    "collapsed": true
   },
   "outputs": [],
   "source": [
    "X_cat = DataFrame(data=X_cat, columns=genres)"
   ]
  },
  {
   "cell_type": "markdown",
   "metadata": {},
   "source": [
    "Aggregation of samples:"
   ]
  },
  {
   "cell_type": "code",
   "execution_count": 22,
   "metadata": {
    "collapsed": true
   },
   "outputs": [],
   "source": [
    "X = concat([X_real, X_cat, y], axis=1, join_axes=[X_real.index]).fillna(0)"
   ]
  },
  {
   "cell_type": "code",
   "execution_count": 23,
   "metadata": {},
   "outputs": [
    {
     "data": {
      "text/html": [
       "<div>\n",
       "<style>\n",
       "    .dataframe thead tr:only-child th {\n",
       "        text-align: right;\n",
       "    }\n",
       "\n",
       "    .dataframe thead th {\n",
       "        text-align: left;\n",
       "    }\n",
       "\n",
       "    .dataframe tbody tr th {\n",
       "        vertical-align: top;\n",
       "    }\n",
       "</style>\n",
       "<table border=\"1\" class=\"dataframe\">\n",
       "  <thead>\n",
       "    <tr style=\"text-align: right;\">\n",
       "      <th></th>\n",
       "      <th>Year_of_Release</th>\n",
       "      <th>Sports</th>\n",
       "      <th>Racing</th>\n",
       "      <th>Platform</th>\n",
       "      <th>Misc</th>\n",
       "      <th>Action</th>\n",
       "      <th>Puzzle</th>\n",
       "      <th>Shooter</th>\n",
       "      <th>Fighting</th>\n",
       "      <th>Simulation</th>\n",
       "      <th>Role-Playing</th>\n",
       "      <th>Adventure</th>\n",
       "      <th>Strategy</th>\n",
       "      <th>Global_Sales</th>\n",
       "    </tr>\n",
       "  </thead>\n",
       "  <tbody>\n",
       "    <tr>\n",
       "      <th>0</th>\n",
       "      <td>2006.0</td>\n",
       "      <td>0.0</td>\n",
       "      <td>0.0</td>\n",
       "      <td>0.0</td>\n",
       "      <td>0.0</td>\n",
       "      <td>0.0</td>\n",
       "      <td>0.0</td>\n",
       "      <td>0.0</td>\n",
       "      <td>0.0</td>\n",
       "      <td>0.0</td>\n",
       "      <td>0.0</td>\n",
       "      <td>1.0</td>\n",
       "      <td>0.0</td>\n",
       "      <td>82.54</td>\n",
       "    </tr>\n",
       "    <tr>\n",
       "      <th>2</th>\n",
       "      <td>2008.0</td>\n",
       "      <td>0.0</td>\n",
       "      <td>0.0</td>\n",
       "      <td>0.0</td>\n",
       "      <td>0.0</td>\n",
       "      <td>0.0</td>\n",
       "      <td>0.0</td>\n",
       "      <td>0.0</td>\n",
       "      <td>0.0</td>\n",
       "      <td>0.0</td>\n",
       "      <td>0.0</td>\n",
       "      <td>1.0</td>\n",
       "      <td>0.0</td>\n",
       "      <td>35.57</td>\n",
       "    </tr>\n",
       "    <tr>\n",
       "      <th>3</th>\n",
       "      <td>2009.0</td>\n",
       "      <td>0.0</td>\n",
       "      <td>0.0</td>\n",
       "      <td>0.0</td>\n",
       "      <td>0.0</td>\n",
       "      <td>1.0</td>\n",
       "      <td>0.0</td>\n",
       "      <td>0.0</td>\n",
       "      <td>0.0</td>\n",
       "      <td>0.0</td>\n",
       "      <td>0.0</td>\n",
       "      <td>0.0</td>\n",
       "      <td>0.0</td>\n",
       "      <td>32.78</td>\n",
       "    </tr>\n",
       "    <tr>\n",
       "      <th>6</th>\n",
       "      <td>2006.0</td>\n",
       "      <td>0.0</td>\n",
       "      <td>0.0</td>\n",
       "      <td>0.0</td>\n",
       "      <td>0.0</td>\n",
       "      <td>0.0</td>\n",
       "      <td>0.0</td>\n",
       "      <td>1.0</td>\n",
       "      <td>0.0</td>\n",
       "      <td>0.0</td>\n",
       "      <td>0.0</td>\n",
       "      <td>0.0</td>\n",
       "      <td>0.0</td>\n",
       "      <td>29.81</td>\n",
       "    </tr>\n",
       "    <tr>\n",
       "      <th>7</th>\n",
       "      <td>2006.0</td>\n",
       "      <td>0.0</td>\n",
       "      <td>0.0</td>\n",
       "      <td>0.0</td>\n",
       "      <td>0.0</td>\n",
       "      <td>0.0</td>\n",
       "      <td>0.0</td>\n",
       "      <td>0.0</td>\n",
       "      <td>0.0</td>\n",
       "      <td>0.0</td>\n",
       "      <td>0.0</td>\n",
       "      <td>1.0</td>\n",
       "      <td>0.0</td>\n",
       "      <td>28.92</td>\n",
       "    </tr>\n",
       "  </tbody>\n",
       "</table>\n",
       "</div>"
      ],
      "text/plain": [
       "   Year_of_Release  Sports  Racing  Platform  Misc  Action  Puzzle  Shooter  \\\n",
       "0           2006.0     0.0     0.0       0.0   0.0     0.0     0.0      0.0   \n",
       "2           2008.0     0.0     0.0       0.0   0.0     0.0     0.0      0.0   \n",
       "3           2009.0     0.0     0.0       0.0   0.0     1.0     0.0      0.0   \n",
       "6           2006.0     0.0     0.0       0.0   0.0     0.0     0.0      1.0   \n",
       "7           2006.0     0.0     0.0       0.0   0.0     0.0     0.0      0.0   \n",
       "\n",
       "   Fighting  Simulation  Role-Playing  Adventure  Strategy  Global_Sales  \n",
       "0       0.0         0.0           0.0        1.0       0.0         82.54  \n",
       "2       0.0         0.0           0.0        1.0       0.0         35.57  \n",
       "3       0.0         0.0           0.0        0.0       0.0         32.78  \n",
       "6       0.0         0.0           0.0        0.0       0.0         29.81  \n",
       "7       0.0         0.0           0.0        1.0       0.0         28.92  "
      ]
     },
     "execution_count": 23,
     "metadata": {},
     "output_type": "execute_result"
    }
   ],
   "source": [
    "X.head()"
   ]
  },
  {
   "cell_type": "markdown",
   "metadata": {},
   "source": [
    "Removing rows with no genre:"
   ]
  },
  {
   "cell_type": "code",
   "execution_count": 24,
   "metadata": {
    "collapsed": true
   },
   "outputs": [],
   "source": [
    "no_genre = X[X[genres].sum(axis=1) == X['Year_of_Release']]"
   ]
  },
  {
   "cell_type": "code",
   "execution_count": 25,
   "metadata": {
    "collapsed": true
   },
   "outputs": [],
   "source": [
    "X = X[~X.isin(no_genre)].dropna()"
   ]
  },
  {
   "cell_type": "markdown",
   "metadata": {},
   "source": [
    "Choosing rows with small `Global_Sales < 1` and scaling `Year_of_Release`:"
   ]
  },
  {
   "cell_type": "code",
   "execution_count": 26,
   "metadata": {
    "collapsed": true
   },
   "outputs": [],
   "source": [
    "X = X[X['Global_Sales'] < 1]"
   ]
  },
  {
   "cell_type": "code",
   "execution_count": 27,
   "metadata": {
    "collapsed": true
   },
   "outputs": [],
   "source": [
    "y = X['Global_Sales']\n",
    "X = X.drop(['Global_Sales'], axis=1)\n",
    "X['Year_of_Release'] -= X['Year_of_Release'].min()\n",
    "X['Year_of_Release'] /= X['Year_of_Release'].max()"
   ]
  },
  {
   "cell_type": "markdown",
   "metadata": {},
   "source": [
    "So, we have real and transformed categorical features, and with all of them we can work."
   ]
  },
  {
   "cell_type": "markdown",
   "metadata": {
    "collapsed": true
   },
   "source": [
    "We need to divide the dataset into learning and test samples."
   ]
  },
  {
   "cell_type": "code",
   "execution_count": 28,
   "metadata": {},
   "outputs": [
    {
     "name": "stderr",
     "output_type": "stream",
     "text": [
      "/opt/conda/lib/python2.7/site-packages/sklearn/cross_validation.py:44: DeprecationWarning: This module was deprecated in version 0.18 in favor of the model_selection module into which all the refactored classes and functions are moved. Also note that the interface of the new CV iterators are different from that of this module. This module will be removed in 0.20.\n",
      "  \"This module will be removed in 0.20.\", DeprecationWarning)\n"
     ]
    }
   ],
   "source": [
    "from sklearn.cross_validation import train_test_split\n",
    "\n",
    "(X_train, X_test, y_train, y_test) = train_test_split(X, y, test_size=0.3, random_state=0)"
   ]
  },
  {
   "cell_type": "code",
   "execution_count": 29,
   "metadata": {},
   "outputs": [
    {
     "data": {
      "text/plain": [
       "DecisionTreeRegressor(criterion='mse', max_depth=None, max_features=None,\n",
       "           max_leaf_nodes=None, min_impurity_split=1e-07,\n",
       "           min_samples_leaf=1, min_samples_split=2,\n",
       "           min_weight_fraction_leaf=0.0, presort=False, random_state=None,\n",
       "           splitter='best')"
      ]
     },
     "execution_count": 29,
     "metadata": {},
     "output_type": "execute_result"
    }
   ],
   "source": [
    "from sklearn.tree import DecisionTreeRegressor\n",
    "regressor = DecisionTreeRegressor()\n",
    "regressor.fit(X_train, y_train)"
   ]
  },
  {
   "cell_type": "code",
   "execution_count": 30,
   "metadata": {
    "collapsed": true
   },
   "outputs": [],
   "source": [
    "predictions = regressor.predict(X_test)"
   ]
  },
  {
   "cell_type": "code",
   "execution_count": 31,
   "metadata": {},
   "outputs": [
    {
     "name": "stdout",
     "output_type": "stream",
     "text": [
      "[ 0.08448649  0.46        0.08520619  0.08448649  0.39466667]\n"
     ]
    }
   ],
   "source": [
    "print predictions[:5]"
   ]
  },
  {
   "cell_type": "code",
   "execution_count": 32,
   "metadata": {
    "collapsed": true
   },
   "outputs": [],
   "source": [
    "from numpy import array, arange"
   ]
  },
  {
   "cell_type": "code",
   "execution_count": 33,
   "metadata": {
    "collapsed": true
   },
   "outputs": [],
   "source": [
    "y_test = array(y_test)"
   ]
  },
  {
   "cell_type": "code",
   "execution_count": 34,
   "metadata": {},
   "outputs": [
    {
     "name": "stdout",
     "output_type": "stream",
     "text": [
      "[ 0.2   0.48  0.11  0.13  0.26]\n"
     ]
    }
   ],
   "source": [
    "print y_test[:5]"
   ]
  },
  {
   "cell_type": "code",
   "execution_count": 35,
   "metadata": {},
   "outputs": [
    {
     "data": {
      "image/png": "[encoded data removed]",
      "text/plain": [
       "<matplotlib.figure.Figure at 0x7f8be20d4650>"
      ]
     },
     "metadata": {},
     "output_type": "display_data"
    }
   ],
   "source": [
    "import matplotlib.pyplot as plt\n",
    "plt.hist(y_test, bins='auto', color='red')\n",
    "plt.hist(predictions, bins='auto', color='green')\n",
    "plt.title(\"Histogram with 'auto' bins\")\n",
    "plt.show()"
   ]
  },
  {
   "cell_type": "code",
   "execution_count": 36,
   "metadata": {
    "collapsed": true
   },
   "outputs": [],
   "source": [
    "from sklearn.metrics import mean_squared_error"
   ]
  },
  {
   "cell_type": "code",
   "execution_count": 37,
   "metadata": {},
   "outputs": [
    {
     "name": "stdout",
     "output_type": "stream",
     "text": [
      "0.0235575237721\n"
     ]
    }
   ],
   "source": [
    "print mean_squared_error(y_test, predictions)"
   ]
  },
  {
   "cell_type": "code",
   "execution_count": 38,
   "metadata": {
    "collapsed": true
   },
   "outputs": [],
   "source": [
    "from sklearn.cross_validation import cross_val_score"
   ]
  },
  {
   "cell_type": "code",
   "execution_count": 39,
   "metadata": {
    "collapsed": true
   },
   "outputs": [],
   "source": [
    "from sklearn.metrics import make_scorer"
   ]
  },
  {
   "cell_type": "code",
   "execution_count": 40,
   "metadata": {
    "collapsed": true
   },
   "outputs": [],
   "source": [
    "scorer = make_scorer(mean_squared_error)"
   ]
  },
  {
   "cell_type": "code",
   "execution_count": 41,
   "metadata": {},
   "outputs": [
    {
     "name": "stdout",
     "output_type": "stream",
     "text": [
      "0.0267176256118\n"
     ]
    }
   ],
   "source": [
    "print cross_val_score(regressor, X_train, y_train, scoring=scorer).mean()"
   ]
  },
  {
   "cell_type": "markdown",
   "metadata": {},
   "source": [
    "The algorithm turned out to be bad (despite the fact that the error is small enough).\n",
    "One of the reasons is that the discrete features were represented by real.\n",
    "Also weights of all features (using Lasso regression) are close to zero,\n",
    "so choosing of informative features could be not good.\n",
    "Another problem is that a priori distribution of the required feature is exponential, and the algorithm is designed for a bimodal normal distribution."
   ]
  },
  {
   "cell_type": "markdown",
   "metadata": {},
   "source": [
    "## Fuzzy logic"
   ]
  },
  {
   "cell_type": "markdown",
   "metadata": {},
   "source": [
    "Let’s create a fuzzy control system which models sales predictions of a video game.\n",
    "We consider a year and genre, rated between 0 and 10."
   ]
  },
  {
   "cell_type": "markdown",
   "metadata": {},
   "source": [
    "We would formulate this problem as:\n",
    "\n",
    "**Antecednets (Inputs)**\n",
    "\n",
    "*Year_of_Release*\n",
    "- Universe: How good was the year or game release, on a scale of 0 to 10?\n",
    "- Fuzzy set: poor, acceptable, amazing\n",
    "\n",
    "*Genre*\n",
    "- Universe: How good was game genre, on a scale of 0 to 10?\n",
    "- Fuzzy set: bad, decent, great\n",
    "\n",
    "**Consequents (Outputs)**\n",
    "\n",
    "*tip*\n",
    "- Universe: How much will be game sales, on a scale of 0 to 100\n",
    "- Fuzzy set: low, medium, high\n",
    "\n",
    "**Rules**\n",
    "- IF the year was good or the game genre was good, THEN the sales will be high.\n",
    "- IF the genre was average, THEN the sales will be medium.\n",
    "- IF the year was poor and the game genre was poor THEN the sales will be low."
   ]
  },
  {
   "cell_type": "markdown",
   "metadata": {},
   "source": [
    "We can use the skfuzzy control system API to model this.\n",
    "First, let’s define fuzzy variables."
   ]
  },
  {
   "cell_type": "code",
   "execution_count": 42,
   "metadata": {},
   "outputs": [],
   "source": [
    "from skfuzzy.control import Antecedent, Consequent, Rule, ControlSystem, ControlSystemSimulation\n",
    "from skfuzzy import trimf"
   ]
  },
  {
   "cell_type": "code",
   "execution_count": 43,
   "metadata": {},
   "outputs": [],
   "source": [
    "# New Antecedent/Consequent objects hold universe variables and membership functions\n",
    "year = Antecedent(arange(0, 11, 1), 'year')\n",
    "genre = Antecedent(arange(0, 11, 1), 'genre')\n",
    "sales = Consequent(arange(0, 101, 1), 'sales')\n",
    "\n",
    "# Auto-membership function population is possible with .automf(3, 5, or 7)\n",
    "year.automf(3)\n",
    "genre.automf(3)\n",
    "\n",
    "# Custom membership functions can be built interactively with a familiar, Pythonic API\n",
    "sales['low'] = trimf(sales.universe, [0, 0, 13])\n",
    "sales['medium'] = trimf(sales.universe, [0, 13, 25])\n",
    "sales['high'] = trimf(sales.universe, [13, 25, 25])"
   ]
  },
  {
   "cell_type": "markdown",
   "metadata": {},
   "source": [
    "To help understand what the membership looks like, use the `view` methods."
   ]
  },
  {
   "cell_type": "code",
   "execution_count": 44,
   "metadata": {},
   "outputs": [],
   "source": [
    "%matplotlib inline"
   ]
  },
  {
   "cell_type": "code",
   "execution_count": 45,
   "metadata": {},
   "outputs": [
    {
     "name": "stderr",
     "output_type": "stream",
     "text": [
      "/opt/conda/lib/python2.7/site-packages/matplotlib/figure.py:403: UserWarning: matplotlib is currently using a non-GUI backend, so cannot show the figure\n",
      "  \"matplotlib is currently using a non-GUI backend, \"\n"
     ]
    },
    {
     "data": {
      "image/png": "[encoded data removed]",
      "text/plain": [
       "<matplotlib.figure.Figure at 0x7f8be292bc90>"
      ]
     },
     "metadata": {},
     "output_type": "display_data"
    }
   ],
   "source": [
    "# We can see how these look with .view()\n",
    "year['average'].view()"
   ]
  },
  {
   "cell_type": "code",
   "execution_count": 46,
   "metadata": {},
   "outputs": [
    {
     "data": {
      "image/png": "[encoded data removed]",
      "text/plain": [
       "<matplotlib.figure.Figure at 0x7f8be292bb50>"
      ]
     },
     "metadata": {},
     "output_type": "display_data"
    }
   ],
   "source": [
    "genre.view()"
   ]
  },
  {
   "cell_type": "markdown",
   "metadata": {},
   "source": [
    "### Fuzzy rules\n",
    "Now, to make these triangles useful, we define the fuzzy relationship between input and output variables.\n",
    "For the purposes of our example, consider three simple rules:\n",
    "- If the year is poor OR the genre is poor, then the sales will be low\n",
    "- If the genre is average, then the sales will be medium\n",
    "- If the year is good OR the year is good, then the sales will be high.\n",
    "\n",
    "Most people would agree on these rules, but the rules are fuzzy.\n",
    "Mapping the imprecise rules into a defined, actionable tip is a challenge.\n",
    "This is the kind of task at which fuzzy logic excels."
   ]
  },
  {
   "cell_type": "code",
   "execution_count": 47,
   "metadata": {},
   "outputs": [
    {
     "data": {
      "text/plain": [
       "(<matplotlib.figure.Figure at 0x7f8be0057990>,\n",
       " <matplotlib.axes._subplots.AxesSubplot at 0x7f8bcffc2710>)"
      ]
     },
     "execution_count": 47,
     "metadata": {},
     "output_type": "execute_result"
    },
    {
     "data": {
      "image/png": "[encoded data removed]",
      "text/plain": [
       "<matplotlib.figure.Figure at 0x7f8be0057990>"
      ]
     },
     "metadata": {},
     "output_type": "display_data"
    }
   ],
   "source": [
    "rule1 = Rule(year['poor'] | genre['poor'], sales['low'])\n",
    "rule2 = Rule(genre['average'], sales['medium'])\n",
    "rule3 = Rule(year['good'] | genre['good'], sales['high'])\n",
    "\n",
    "rule1.view()"
   ]
  },
  {
   "cell_type": "markdown",
   "metadata": {},
   "source": [
    "### Control System Creation and Simulation"
   ]
  },
  {
   "cell_type": "markdown",
   "metadata": {},
   "source": [
    "Now that we have our rules defined, we can simply create a control system via:"
   ]
  },
  {
   "cell_type": "code",
   "execution_count": 48,
   "metadata": {
    "collapsed": true
   },
   "outputs": [],
   "source": [
    "sales_control = ControlSystem([rule1, rule2, rule3])"
   ]
  },
  {
   "cell_type": "markdown",
   "metadata": {},
   "source": [
    "In order to simulate this control system, we will create a `ControlSystemSimulation`.\n",
    "Think of this object representing our controller applied to a specific set of cirucmstances."
   ]
  },
  {
   "cell_type": "code",
   "execution_count": 49,
   "metadata": {
    "collapsed": true
   },
   "outputs": [],
   "source": [
    "sales_sim = ControlSystemSimulation(sales_control)"
   ]
  },
  {
   "cell_type": "markdown",
   "metadata": {},
   "source": [
    "We can now simulate our control system by simply specifying the inputs and calling the compute method.\n",
    "Suppose we rated the year 6.5 out of 10 and the genre 9.8 of 10."
   ]
  },
  {
   "cell_type": "code",
   "execution_count": 50,
   "metadata": {},
   "outputs": [],
   "source": [
    "years = X['Year_of_Release'] * 10"
   ]
  },
  {
   "cell_type": "code",
   "execution_count": 51,
   "metadata": {},
   "outputs": [
    {
     "data": {
      "text/plain": [
       "Sports          654.0\n",
       "Racing          122.0\n",
       "Platform        147.0\n",
       "Misc            145.0\n",
       "Action          150.0\n",
       "Puzzle           49.0\n",
       "Shooter         210.0\n",
       "Fighting        280.0\n",
       "Simulation      305.0\n",
       "Role-Playing    110.0\n",
       "Adventure       369.0\n",
       "Strategy        115.0\n",
       "dtype: float64"
      ]
     },
     "execution_count": 51,
     "metadata": {},
     "output_type": "execute_result"
    }
   ],
   "source": [
    "X.drop('Year_of_Release', axis=1).sum(axis=0)"
   ]
  },
  {
   "cell_type": "code",
   "execution_count": 52,
   "metadata": {},
   "outputs": [],
   "source": [
    "genre = encoder.inverse_transform(X[genres])"
   ]
  },
  {
   "cell_type": "code",
   "execution_count": 57,
   "metadata": {},
   "outputs": [],
   "source": [
    "names = []\n",
    "for element in genre:\n",
    "    names.append(element.keys())"
   ]
  },
  {
   "cell_type": "code",
   "execution_count": 70,
   "metadata": {},
   "outputs": [],
   "source": [
    "game_genres = []\n",
    "for element in names:\n",
    "    for x in element:\n",
    "        game_genres.append(x[6:])"
   ]
  },
  {
   "cell_type": "code",
   "execution_count": 71,
   "metadata": {
    "collapsed": true
   },
   "outputs": [],
   "source": [
    "poor_genres = ['Puzzle', 'Role-Playing', 'Strategy', 'Racing']\n",
    "average_genres = ['Misc', 'Platform', 'Action', 'Shooter']\n",
    "good_genred = ['Fighting', 'Simulation', 'Adventure', 'Sports']"
   ]
  },
  {
   "cell_type": "code",
   "execution_count": 78,
   "metadata": {},
   "outputs": [],
   "source": [
    "genres = []\n",
    "for element in game_genres:\n",
    "    if element in poor_genres:\n",
    "        genres.append(1)\n",
    "    elif element in average_genres:\n",
    "        genres.append(5)\n",
    "    else:\n",
    "        genres.append(10)"
   ]
  },
  {
   "cell_type": "code",
   "execution_count": 93,
   "metadata": {},
   "outputs": [],
   "source": [
    "years = array(years)"
   ]
  },
  {
   "cell_type": "code",
   "execution_count": 94,
   "metadata": {},
   "outputs": [],
   "source": [
    "# Pass inputs to the ControlSystem using Antecedent labels with Pythonic API\n",
    "# Note: if you like passing many inputs all at once, use .inputs(dict_of_data)\n",
    "sales_sim.input['year'] = years[0]\n",
    "sales_sim.input['genre'] = genres[0]\n",
    "\n",
    "# Crunch the numbers\n",
    "sales_sim.compute()"
   ]
  },
  {
   "cell_type": "markdown",
   "metadata": {},
   "source": [
    "Once computed, we can view the result as well as visualize it."
   ]
  },
  {
   "cell_type": "code",
   "execution_count": 99,
   "metadata": {},
   "outputs": [
    {
     "name": "stdout",
     "output_type": "stream",
     "text": [
      "Year: 4.83870967742, genre: 5, sales: 12.6507731959\n"
     ]
    },
    {
     "data": {
      "image/png": "[encoded data removed]",
      "text/plain": [
       "<matplotlib.figure.Figure at 0x7f8be2056590>"
      ]
     },
     "metadata": {},
     "output_type": "display_data"
    }
   ],
   "source": [
    "print 'Year: {}, genre: {}, sales: {}'.format(years[0], genres[0], sales_sim.output['sales'])\n",
    "sales.view(sim=sales_sim)"
   ]
  }
 ],
 "metadata": {
  "kernelspec": {
   "display_name": "Python 2",
   "language": "python",
   "name": "python2"
  },
  "language_info": {
   "codemirror_mode": {
    "name": "ipython",
    "version": 2
   },
   "file_extension": ".py",
   "mimetype": "text/x-python",
   "name": "python",
   "nbconvert_exporter": "python",
   "pygments_lexer": "ipython2",
   "version": "2.7.13"
  }
 },
 "nbformat": 4,
 "nbformat_minor": 2
}
